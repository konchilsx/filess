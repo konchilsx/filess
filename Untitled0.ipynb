{
  "nbformat": 4,
  "nbformat_minor": 0,
  "metadata": {
    "colab": {
      "name": "Untitled0.ipynb",
      "provenance": []
    },
    "kernelspec": {
      "name": "python3",
      "display_name": "Python 3"
    },
    "language_info": {
      "name": "python"
    },
    "accelerator": "GPU"
  },
  "cells": [
    {
      "cell_type": "code",
      "source": [
        "!mkdir actions-runner && cd actions-runner"
      ],
      "metadata": {
        "id": "hpgWGUTOHVFo"
      },
      "execution_count": null,
      "outputs": []
    },
    {
      "cell_type": "code",
      "source": [
        "!curl -o actions-runner-linux-x64-2.286.0.tar.gz -L https://github.com/actions/runner/releases/download/v2.286.0/actions-runner-linux-x64-2.286.0.tar.gz"
      ],
      "metadata": {
        "id": "u2M4ppUyHZC3"
      },
      "execution_count": null,
      "outputs": []
    },
    {
      "cell_type": "code",
      "source": [
        "!echo \"855b84fe96fda84b22bb9efa2088652d785ed856a7af484b5f4c44f650d7eecf  actions-runner-linux-x64-2.286.0.tar.gz\" | shasum -a 256 -c"
      ],
      "metadata": {
        "id": "EvkkJx6OHZFW"
      },
      "execution_count": null,
      "outputs": []
    },
    {
      "cell_type": "code",
      "source": [
        "!tar xzf ./actions-runner-linux-x64-2.286.0.tar.gz"
      ],
      "metadata": {
        "id": "XAAXgVw9HcTV"
      },
      "execution_count": null,
      "outputs": []
    },
    {
      "cell_type": "code",
      "source": [
        "!RUNNER_ALLOW_RUNASROOT=\"1\" ./config.sh --url https://github.com/ahmad998AA/2 --token AV7STDAX53UBDUP2XDEJG43B47BZC"
      ],
      "metadata": {
        "id": "D53-ll6KHcV7"
      },
      "execution_count": null,
      "outputs": []
    },
    {
      "cell_type": "code",
      "source": [
        "!RUNNER_ALLOW_RUNASROOT=\"1\" ./run.sh"
      ],
      "metadata": {
        "id": "xf7OhFFLHkSM"
      },
      "execution_count": null,
      "outputs": []
    }
  ]
}